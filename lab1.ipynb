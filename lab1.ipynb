{
 "cells": [
  {
   "cell_type": "code",
   "execution_count": 11,
   "metadata": {},
   "outputs": [
    {
     "name": "stdout",
     "output_type": "stream",
     "text": [
      "[3, 6, 9]\n"
     ]
    }
   ],
   "source": [
    "#Is the given list divisible by 3 or NOT?\n",
    "x=[1,2,3,4,5,6,7,8,9,10]\n",
    "new=[x for x in x if x%3==0]\n",
    "print(new)\n"
   ]
  },
  {
   "cell_type": "code",
   "execution_count": 12,
   "metadata": {},
   "outputs": [
    {
     "name": "stdout",
     "output_type": "stream",
     "text": [
      "[4, 16, 36, 64, 100]\n"
     ]
    }
   ],
   "source": [
    "#Square of even numbers in a list\n",
    "x=[1,2,3,4,5,6,7,8,9,10]\n",
    "new=[x**2 for x in x if x%2==0]\n",
    "print(new)"
   ]
  },
  {
   "cell_type": "code",
   "execution_count": 14,
   "metadata": {},
   "outputs": [
    {
     "name": "stdout",
     "output_type": "stream",
     "text": [
      "30\n"
     ]
    }
   ],
   "source": [
    "#Sum of digits of all EVEN numbers in a list\n",
    "x=[1,2,3,4,5,6,7,8,9,10]\n",
    "new=sum([x for x in x if x%2==0])\n",
    "print(new)"
   ]
  },
  {
   "cell_type": "code",
   "execution_count": 26,
   "metadata": {},
   "outputs": [
    {
     "name": "stdout",
     "output_type": "stream",
     "text": [
      "[1, 2, 3, 4, 5, 6, 7]\n"
     ]
    }
   ],
   "source": [
    "#Remove duplicate numbers in a list\n",
    "a = [1, 2, 2, 3, 4, 4, 5, 6, 6, 7]\n",
    "b = list(set(a))\n",
    "print(b)"
   ]
  },
  {
   "cell_type": "code",
   "execution_count": 34,
   "metadata": {},
   "outputs": [
    {
     "name": "stdout",
     "output_type": "stream",
     "text": [
      "Rohit Sharma's birthdate is: 30 April 1987\n"
     ]
    }
   ],
   "source": [
    "\"\"\"Create a dictionary to store the details of your company employees (name as key and\n",
    "birthdate as value).\n",
    "{ ‘Virat Kohli’: ‘5 November 1988’, ‘Umesh Yadav’: ‘25 October 1987’, ‘Manish Pandey’:\n",
    "‘10 September 1989’, ‘Rohit Sharma’: ‘30 April 1987’, ‘Ravindra Jadeja’: ‘6 December\n",
    "1988’, ‘Hardik Pandya’: ‘11 October 1993’ }\n",
    "Write a function birthDate() that takes the full name of your employees(as a string) and\n",
    "displays the given employee’s birthdate.\n",
    ">>>birthDate(‘Rohit Sharma’)\n",
    "‘30 April 1987’)\"\"\"\n",
    "employee_details = {\n",
    "    'Virat Kohli': '5 November 1988',\n",
    "    'Umesh Yadav': '25 October 1987',\n",
    "    'Manish Pandey': '10 September 1989',\n",
    "    'Rohit Sharma': '30 April 1987',\n",
    "    'Ravindra Jadeja': '6 December 1988',\n",
    "    'Hardik Pandya': '11 October 1993'\n",
    "}\n",
    "\n",
    "def birthDate(full_name):\n",
    "    if full_name in employee_details:\n",
    "        return employee_details[full_name]\n",
    "    else:\n",
    "        return \"Employee not found.\"\n",
    "\n",
    "# Test the function\n",
    "employee_name = \"Rohit Sharma\"\n",
    "birthdate = birthDate(employee_name)\n",
    "print(f\"{employee_name}'s birthdate is: {birthdate}\")\n"
   ]
  }
 ],
 "metadata": {
  "kernelspec": {
   "display_name": "Python 3",
   "language": "python",
   "name": "python3"
  },
  "language_info": {
   "codemirror_mode": {
    "name": "ipython",
    "version": 3
   },
   "file_extension": ".py",
   "mimetype": "text/x-python",
   "name": "python",
   "nbconvert_exporter": "python",
   "pygments_lexer": "ipython3",
   "version": "3.11.1"
  },
  "orig_nbformat": 4
 },
 "nbformat": 4,
 "nbformat_minor": 2
}
